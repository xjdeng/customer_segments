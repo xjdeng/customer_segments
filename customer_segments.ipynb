{
 "cells": [
  {
   "cell_type": "markdown",
   "metadata": {},
   "source": [
    "# Creating Customer Segments"
   ]
  },
  {
   "cell_type": "markdown",
   "metadata": {},
   "source": [
    "In this project you, will analyze a dataset containing annual spending amounts for internal structure, to understand the variation in the different types of customers that a wholesale distributor interacts with.\n",
    "\n",
    "Instructions:\n",
    "\n",
    "- Run each code block below by pressing **Shift+Enter**, making sure to implement any steps marked with a TODO.\n",
    "- Answer each question in the space provided by editing the blocks labeled \"Answer:\".\n",
    "- When you are done, submit the completed notebook (.ipynb) with all code blocks executed, as well as a .pdf version (File > Download as)."
   ]
  },
  {
   "cell_type": "code",
   "execution_count": 4,
   "metadata": {
    "collapsed": false
   },
   "outputs": [
    {
     "name": "stdout",
     "output_type": "stream",
     "text": [
      "Dataset has 440 rows, 6 columns\n",
      "   Fresh  Milk  Grocery  Frozen  Detergents_Paper  Delicatessen\n",
      "0  12669  9656     7561     214              2674          1338\n",
      "1   7057  9810     9568    1762              3293          1776\n",
      "2   6353  8808     7684    2405              3516          7844\n",
      "3  13265  1196     4221    6404               507          1788\n",
      "4  22615  5410     7198    3915              1777          5185\n"
     ]
    }
   ],
   "source": [
    "# Import libraries: NumPy, pandas, matplotlib\n",
    "import numpy as np\n",
    "import pandas as pd\n",
    "import matplotlib.pyplot as plt\n",
    "\n",
    "# Tell iPython to include plots inline in the notebook\n",
    "%matplotlib inline\n",
    "\n",
    "# Read dataset\n",
    "data = pd.read_csv(\"wholesale-customers.csv\")\n",
    "print \"Dataset has {} rows, {} columns\".format(*data.shape)\n",
    "print data.head()  # print the first 5 rows"
   ]
  },
  {
   "cell_type": "markdown",
   "metadata": {},
   "source": [
    "##Feature Transformation"
   ]
  },
  {
   "cell_type": "markdown",
   "metadata": {},
   "source": [
    "**1)** In this section you will be using PCA and ICA to start to understand the structure of the data. Before doing any computations, what do you think will show up in your computations? List one or two ideas for what might show up as the first PCA dimensions, or what type of vectors will show up as ICA dimensions."
   ]
  },
  {
   "cell_type": "markdown",
   "metadata": {},
   "source": [
    "Answer: PCA measures the direction of maximum variance, so the components with the highest variance will likely show up as the first PCA dimensions.  Those components are: Fresh, Milk, and Groccery.\n",
    "\n",
    "(Although we can probably infer by the considerably higher magnitude of the components in those 3 columns that their variance will be higher than the rest, I've verified this assertion by manually calculating the variance myself.)\n",
    "\n",
    "ICA, on the other hand, is used to separate a signal into its independent and distinct sources.  In this case, our \"signal\" is the data consisting of how much of each good a customer or business bought from the supplier and the \"source\" is a customer segment or business sector that tends to purchase each product in very distinct patterns (i.e. lots of Fresh, little Frozen, little Grocery.)\n"
   ]
  },
  {
   "cell_type": "markdown",
   "metadata": {},
   "source": [
    "###PCA"
   ]
  },
  {
   "cell_type": "code",
   "execution_count": 94,
   "metadata": {
    "collapsed": false
   },
   "outputs": [
    {
     "name": "stdout",
     "output_type": "stream",
     "text": [
      "[[-0.97653685 -0.12118407 -0.06154039 -0.15236462  0.00705417 -0.06810471]\n",
      " [-0.11061386  0.51580216  0.76460638 -0.01872345  0.36535076  0.05707921]\n",
      " [-0.17855726  0.50988675 -0.27578088  0.71420037 -0.20440987  0.28321747]\n",
      " [-0.04187648 -0.64564047  0.37546049  0.64629232  0.14938013 -0.02039579]\n",
      " [ 0.015986    0.20323566 -0.1602915   0.22018612  0.20793016 -0.91707659]\n",
      " [-0.01576316  0.03349187  0.41093894 -0.01328898 -0.87128428 -0.26541687]]\n",
      "[ 0.45961362  0.40517227  0.07003008  0.04402344  0.01502212  0.00613848]\n"
     ]
    },
    {
     "data": {
      "image/png": "[encoded data removed]",
      "text/plain": [
       "<matplotlib.figure.Figure at 0x1f28ee48>"
      ]
     },
     "metadata": {},
     "output_type": "display_data"
    }
   ],
   "source": [
    "# TODO: Apply PCA with the same number of dimensions as variables in the dataset\n",
    "from sklearn.decomposition import PCA\n",
    "pca = PCA(n_components=6)\n",
    "pca.fit(data)\n",
    "plt.figure(2)\n",
    "plt.plot([1, 2, 3, 4, 5, 6],pca.explained_variance_ratio_,lw=2)\n",
    "plt.xlabel(\"PCA Component\")\n",
    "plt.ylabel(\"Explained Variance Ratio\")\n",
    "# Print the components and the amount of variance in the data contained in each dimension\n",
    "print pca.components_\n",
    "print pca.explained_variance_ratio_"
   ]
  },
  {
   "cell_type": "markdown",
   "metadata": {},
   "source": [
    "**2)** How quickly does the variance drop off by dimension? If you were to use PCA on this dataset, how many dimensions would you choose for your analysis? Why?"
   ]
  },
  {
   "cell_type": "markdown",
   "metadata": {
    "collapsed": true
   },
   "source": [
    "Answer: The first 2 dimensions account for nearly 86% of all of the variance (46% and 40% respectively) and suddenly drops of to 7% and 4% for the 3rd and 4th components.  It makes sense to use only the first 2 dimensions and only maybe try again with the 3rd dimension added back if the analysis using only the first 2 dimensions ends up unsatisfactory."
   ]
  },
  {
   "cell_type": "markdown",
   "metadata": {},
   "source": [
    "**3)** What do the dimensions seem to represent? How can you use this information?"
   ]
  },
  {
   "cell_type": "markdown",
   "metadata": {
    "collapsed": true
   },
   "source": [
    "Answer: The first dimension has a highly negative correlation (-0.98) with the first variable: Fresh.  This dimension represents a measure of how little one is spending on Fresh produce.  It also signifies that spending on Fresh produce is relatively uncorrelated with the other 5 goods (further confirmed by the fact that the entries corresponding to Fresh in the other 5 PCA vectors are close to 0.)\n",
    "\n",
    "The second dimension has moderately high correlations with the 2nd and 3rd variables: Milk and Grocery.  This dimension represents a measure of how much one is spending on Milk and Grocery.  PCA has determined that a significant correlation exists between spending on Milk and Grocery and has decided to combine those two into a single dimension, simplifying our data.  This makes sense since Milk products and Grocery products are often used together to make certain foods like sandwiches, desserts, etc."
   ]
  },
  {
   "cell_type": "markdown",
   "metadata": {},
   "source": [
    "###ICA"
   ]
  },
  {
   "cell_type": "code",
   "execution_count": 114,
   "metadata": {
    "collapsed": false
   },
   "outputs": [
    {
     "name": "stdout",
     "output_type": "stream",
     "text": [
      "Transformed ICA matrix: \n",
      "\n",
      "[[ -10   -1    8   54   -2  -16]\n",
      " [  -2   51  -48   -3  -23   -9]\n",
      " [  -4  -55   24    0  -19   15]\n",
      " [  -4   -2   -5   -2    2   51]\n",
      " [  50   -6   -4   -3    7   -2]\n",
      " [  -3    7  129   -6 -132  -15]]\n",
      "\n",
      "Original ICA matrix:\n",
      "\n",
      "[[-0.01088055 -0.00142686  0.0082333   0.0540615  -0.00285914 -0.01673206]\n",
      " [-0.00283332  0.05145475 -0.04880457 -0.00375662 -0.02314896 -0.00942993]\n",
      " [-0.00428649 -0.05510768  0.02425562  0.00036868 -0.01928228  0.01509482]\n",
      " [-0.00490364 -0.00232737 -0.0057128  -0.00257291  0.00210924  0.05121381]\n",
      " [ 0.05008524 -0.00697749 -0.00432336 -0.00343211  0.00754314 -0.00289965]\n",
      " [-0.00373097  0.00732033  0.12999569 -0.00637638 -0.13206548 -0.01509205]]\n"
     ]
    }
   ],
   "source": [
    "# TODO: Fit an ICA model to the data\n",
    "# Note: Adjust the data to have center at the origin first!\n",
    "from sklearn.decomposition import FastICA\n",
    "ica = FastICA()\n",
    "from sklearn.preprocessing import StandardScaler\n",
    "myscaler = StandardScaler()\n",
    "data2 = myscaler.fit_transform(data)\n",
    "ica.fit(data2)\n",
    "components2 = 1000*ica.components_\n",
    "print \"Transformed ICA matrix: \\n\"\n",
    "print components2.astype(int)\n",
    "print \"\\nOriginal ICA matrix:\\n\"\n",
    "# Print the independent components\n",
    "print ica.components_"
   ]
  },
  {
   "cell_type": "markdown",
   "metadata": {},
   "source": [
    "**4)** For each vector in the ICA decomposition, write a sentence or two explaining what sort of object or property it corresponds to. What could these components be used for?"
   ]
  },
  {
   "cell_type": "markdown",
   "metadata": {
    "collapsed": true
   },
   "source": [
    "Answer: We'll refer to the following transformed ICA matrix for our analysis:\n",
    "[[   4    2    5    2   -2  -51]\n",
    " [  50   -6   -6   -3   10   -2]\n",
    " [  -3   17  111   -7 -133  -16]\n",
    " [   2  -13   66    1  -10   -4]\n",
    " [   2   72  -55   -1   16  -16]\n",
    " [ -10    0    7   54   -2  -16]]\n",
    " \n",
    " The first vector, [   4    2    5    2   -2  -51], refers to a business that spends roughly average on everything except Delicatssen items.  If we multiply it by -1, we get [   -4    -2    -5    -2   2  51] which indicates roughly average spending on most items but above average spending on Delicatssen.  This probably corresponds to a Deli or Sandwich shop.\n",
    " \n",
    " The second vector, [  50   -6   -6   -3   10   -2], refers to a business that spends a disproportionate amount in Fresh produce and a little more than average on Detergents and Paper.  The only type of business that somewhat fits this is a farmer's market store.\n",
    " \n",
    " The third vector, [  -3   17  111   -7 -133  -16], refers to a business that spends a lot more than average on groceries and a lot less than average on Detergents and Paper products.  If we multiply it by -1, we get [  3   -17  -111   7  133  16], a business that spends a lot on detergents and little on groceries.  A hotel might fit this.\n",
    " \n",
    " The fourth vector, [   2  -13   66    1  -10   -4], corresponds to a business that spends a lot more on Groceries than everything else.  This is likely a grocery store.\n",
    " \n",
    " The fifth vector, [   2   72  -55   -1   16  -16], corresponds to a business that buys a disproportionate amount of Milk products and very little Grocery products.  This looks like a cheese maker.\n",
    " \n",
    " The sixth vector, [ -10    0    7   54   -2  -16], corresponds to a business that buys a ton of frozen foods.  This is likely a convenience store.\n",
    " \n",
    " These vectors could be used to explore possible customer segmentations and the real-world business that the particular segmentation might correspond to (like I've suggested above.)"
   ]
  },
  {
   "cell_type": "markdown",
   "metadata": {},
   "source": [
    "##Clustering\n",
    "\n",
    "In this section you will choose either K Means clustering or Gaussian Mixed Models clustering, which implements expectation-maximization. Then you will sample elements from the clusters to understand their significance."
   ]
  },
  {
   "cell_type": "markdown",
   "metadata": {},
   "source": [
    "###Choose a Cluster Type\n",
    "\n",
    "**5)** What are the advantages of using K Means clustering or Gaussian Mixture Models?"
   ]
  },
  {
   "cell_type": "markdown",
   "metadata": {},
   "source": [
    "Answer: K-Means clustering scales well to very large sample sizes.  Gaussian Mixture Models work well for density estimation and is preferable over K-means for larger #'s of clusters.\n",
    "\n",
    "Note: I initially tried using 2 clusters and found the overall shape of the plot to naturally lend itself to 3 clusters so I revised it to 3.  Since 3 clusters is relatively small, I decided to go with K-Means which is optimal for small numbers of clusters."
   ]
  },
  {
   "cell_type": "markdown",
   "metadata": {},
   "source": [
    "**6)** Below is some starter code to help you visualize some cluster data. The visualization is based on [this demo](http://scikit-learn.org/stable/auto_examples/cluster/plot_kmeans_digits.html) from the sklearn documentation."
   ]
  },
  {
   "cell_type": "code",
   "execution_count": 50,
   "metadata": {
    "collapsed": true
   },
   "outputs": [],
   "source": [
    "# Import clustering modules\n",
    "from sklearn.cluster import KMeans\n",
    "from sklearn.mixture import GMM"
   ]
  },
  {
   "cell_type": "code",
   "execution_count": 112,
   "metadata": {
    "collapsed": false
   },
   "outputs": [
    {
     "name": "stdout",
     "output_type": "stream",
     "text": [
      "Our PCA vectors (for reference again):\n",
      "\n",
      "[[-0.97653685 -0.12118407 -0.06154039 -0.15236462  0.00705417 -0.06810471]\n",
      " [-0.11061386  0.51580216  0.76460638 -0.01872345  0.36535076  0.05707921]]\n",
      "\n",
      "1st 10 elements of our reduced data:\n",
      "\n",
      "[[  -650.02212207   1585.51909007]\n",
      " [  4426.80497937   4042.45150884]\n",
      " [  4841.9987068    2578.762176  ]\n",
      " [  -990.34643689  -6279.80599663]\n",
      " [-10657.99873116  -2159.72581518]\n",
      " [  2765.96159271   -959.87072713]\n",
      " [   715.55089221  -2013.00226567]\n",
      " [  4474.58366697   1429.49697204]\n",
      " [  6712.09539718  -2205.90915598]\n",
      " [  4823.63435407  13480.55920489]]\n"
     ]
    }
   ],
   "source": [
    "# TODO: First we reduce the data to two dimensions using PCA to capture variation\n",
    "pca2 = PCA(n_components = 2)\n",
    "reduced_data = pca2.fit_transform(data)\n",
    "print \"Our PCA vectors (for reference again):\\n\"\n",
    "print pca2.fit(data).components_\n",
    "print \"\\n1st 10 elements of our reduced data:\\n\"\n",
    "print reduced_data[:10]  # print upto 10 elements"
   ]
  },
  {
   "cell_type": "code",
   "execution_count": 104,
   "metadata": {
    "collapsed": false
   },
   "outputs": [
    {
     "name": "stdout",
     "output_type": "stream",
     "text": [
      "KMeans(copy_x=True, init='k-means++', max_iter=300, n_clusters=3, n_init=10,\n",
      "    n_jobs=1, precompute_distances='auto', random_state=None, tol=0.0001,\n",
      "    verbose=0)\n"
     ]
    }
   ],
   "source": [
    "# TODO: Implement your clustering algorithm here, and fit it to the reduced data for visualization\n",
    "# The visualizer below assumes your clustering object is named 'clusters'\n",
    "\n",
    "clusters = KMeans(n_clusters = 3).fit(reduced_data)\n",
    "print clusters"
   ]
  },
  {
   "cell_type": "code",
   "execution_count": 105,
   "metadata": {
    "collapsed": false
   },
   "outputs": [],
   "source": [
    "# Plot the decision boundary by building a mesh grid to populate a graph.\n",
    "x_min, x_max = reduced_data[:, 0].min() - 1, reduced_data[:, 0].max() + 1\n",
    "y_min, y_max = reduced_data[:, 1].min() - 1, reduced_data[:, 1].max() + 1\n",
    "hx = (x_max-x_min)/1000.\n",
    "hy = (y_max-y_min)/1000.\n",
    "xx, yy = np.meshgrid(np.arange(x_min, x_max, hx), np.arange(y_min, y_max, hy))\n",
    "\n",
    "# Obtain labels for each point in mesh. Use last trained model.\n",
    "Z = clusters.predict(np.c_[xx.ravel(), yy.ravel()])"
   ]
  },
  {
   "cell_type": "code",
   "execution_count": 106,
   "metadata": {
    "collapsed": false
   },
   "outputs": [
    {
     "name": "stdout",
     "output_type": "stream",
     "text": [
      "[[  4106.90273941  -3168.41202086]\n",
      " [  1497.13461172  24998.27760147]\n",
      " [-24220.71188261  -4364.45560022]]\n"
     ]
    }
   ],
   "source": [
    "# TODO: Find the centroids for KMeans or the cluster means for GMM \n",
    "\n",
    "centroids = clusters.cluster_centers_\n",
    "print centroids"
   ]
  },
  {
   "cell_type": "code",
   "execution_count": 107,
   "metadata": {
    "collapsed": false
   },
   "outputs": [
    {
     "data": {
      "image/png": "[encoded data removed]",
      "text/plain": [
       "<matplotlib.figure.Figure at 0x1f8a84a8>"
      ]
     },
     "metadata": {},
     "output_type": "display_data"
    }
   ],
   "source": [
    "# Put the result into a color plot\n",
    "Z = Z.reshape(xx.shape)\n",
    "plt.figure(1)\n",
    "plt.clf()\n",
    "plt.imshow(Z, interpolation='nearest',\n",
    "           extent=(xx.min(), xx.max(), yy.min(), yy.max()),\n",
    "           cmap=plt.cm.Paired,\n",
    "           aspect='auto', origin='lower')\n",
    "\n",
    "plt.plot(reduced_data[:, 0], reduced_data[:, 1], 'k.', markersize=2)\n",
    "plt.scatter(centroids[:, 0], centroids[:, 1],\n",
    "            marker='x', s=169, linewidths=3,\n",
    "            color='w', zorder=10)\n",
    "plt.title('Clustering on the wholesale grocery dataset (PCA-reduced data)\\n'\n",
    "          'Centroids are marked with white cross')\n",
    "plt.xlim(x_min, x_max)\n",
    "plt.ylim(y_min, y_max)\n",
    "plt.xticks(())\n",
    "plt.yticks(())\n",
    "plt.show()"
   ]
  },
  {
   "cell_type": "markdown",
   "metadata": {},
   "source": [
    "**7)** What are the central objects in each cluster? Describe them as customers."
   ]
  },
  {
   "cell_type": "markdown",
   "metadata": {
    "collapsed": true
   },
   "source": [
    "Answer: "
   ]
  },
  {
   "cell_type": "markdown",
   "metadata": {},
   "source": [
    "###Conclusions\n",
    "\n",
    "** 8)** Which of these techniques did you feel gave you the most insight into the data?"
   ]
  },
  {
   "cell_type": "markdown",
   "metadata": {
    "collapsed": true
   },
   "source": [
    "Answer: "
   ]
  },
  {
   "cell_type": "markdown",
   "metadata": {
    "collapsed": true
   },
   "source": [
    "**9)** How would you use that technique to help the company design new experiments?"
   ]
  },
  {
   "cell_type": "markdown",
   "metadata": {},
   "source": [
    "Answer: "
   ]
  },
  {
   "cell_type": "markdown",
   "metadata": {},
   "source": [
    "**10)** How would you use that data to help you predict future customer needs?"
   ]
  },
  {
   "cell_type": "markdown",
   "metadata": {},
   "source": [
    "Answer: "
   ]
  }
 ],
 "metadata": {
  "kernelspec": {
   "display_name": "Python 2",
   "language": "python",
   "name": "python2"
  },
  "language_info": {
   "codemirror_mode": {
    "name": "ipython",
    "version": 2
   },
   "file_extension": ".py",
   "mimetype": "text/x-python",
   "name": "python",
   "nbconvert_exporter": "python",
   "pygments_lexer": "ipython2",
   "version": "2.7.11"
  }
 },
 "nbformat": 4,
 "nbformat_minor": 0
}
